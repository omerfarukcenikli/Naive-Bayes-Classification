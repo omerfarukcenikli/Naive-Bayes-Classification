{
 "cells": [
  {
   "cell_type": "code",
   "execution_count": 1,
   "id": "cebd8fa9-acff-4203-ac9e-99f24100dadc",
   "metadata": {},
   "outputs": [],
   "source": [
    "from sklearn import datasets\n",
    "from sklearn import metrics\n",
    "from sklearn import preprocessing\n",
    "from sklearn.naive_bayes import GaussianNB\n",
    "from sklearn.model_selection import train_test_split as tts\n",
    "import numpy as np \n",
    "import pandas as pd \n",
    "import os"
   ]
  },
  {
   "cell_type": "code",
   "execution_count": 2,
   "id": "4cfa1fb4-8d7a-43b0-b06f-91bf30ca9aea",
   "metadata": {},
   "outputs": [],
   "source": [
    "import warnings\n",
    "\n",
    "warnings.filterwarnings('ignore')"
   ]
  },
  {
   "cell_type": "code",
   "execution_count": 3,
   "id": "b12441dc-921f-475e-96f3-9d6416f0a456",
   "metadata": {},
   "outputs": [],
   "source": [
    "df = pd.read_csv('trainSet.csv')\n",
    "df2 = pd.read_csv('testSet.csv')"
   ]
  },
  {
   "cell_type": "code",
   "execution_count": 4,
   "id": "7f060edb-a958-4f42-8f60-7092d10e9604",
   "metadata": {},
   "outputs": [
    {
     "data": {
      "text/plain": [
       "(750, 6)"
      ]
     },
     "execution_count": 4,
     "metadata": {},
     "output_type": "execute_result"
    }
   ],
   "source": [
    "df.shape #degiskene atama kontrolu"
   ]
  },
  {
   "cell_type": "code",
   "execution_count": 5,
   "id": "2232e2e6-42e0-457b-94ba-96762d0c4790",
   "metadata": {},
   "outputs": [
    {
     "data": {
      "text/html": [
       "<div>\n",
       "<style scoped>\n",
       "    .dataframe tbody tr th:only-of-type {\n",
       "        vertical-align: middle;\n",
       "    }\n",
       "\n",
       "    .dataframe tbody tr th {\n",
       "        vertical-align: top;\n",
       "    }\n",
       "\n",
       "    .dataframe thead th {\n",
       "        text-align: right;\n",
       "    }\n",
       "</style>\n",
       "<table border=\"1\" class=\"dataframe\">\n",
       "  <thead>\n",
       "    <tr style=\"text-align: right;\">\n",
       "      <th></th>\n",
       "      <th>credit_history</th>\n",
       "      <th>credit_amount</th>\n",
       "      <th>employment</th>\n",
       "      <th>property_magnitude</th>\n",
       "      <th>age</th>\n",
       "      <th>class</th>\n",
       "    </tr>\n",
       "  </thead>\n",
       "  <tbody>\n",
       "    <tr>\n",
       "      <th>0</th>\n",
       "      <td>'existing paid'</td>\n",
       "      <td>1924</td>\n",
       "      <td>1&lt;=X&lt;4</td>\n",
       "      <td>'life insurance'</td>\n",
       "      <td>38</td>\n",
       "      <td>good</td>\n",
       "    </tr>\n",
       "    <tr>\n",
       "      <th>1</th>\n",
       "      <td>'existing paid'</td>\n",
       "      <td>7297</td>\n",
       "      <td>&gt;=7</td>\n",
       "      <td>'no known property'</td>\n",
       "      <td>36</td>\n",
       "      <td>bad</td>\n",
       "    </tr>\n",
       "    <tr>\n",
       "      <th>2</th>\n",
       "      <td>'existing paid'</td>\n",
       "      <td>1278</td>\n",
       "      <td>&gt;=7</td>\n",
       "      <td>'real estate'</td>\n",
       "      <td>36</td>\n",
       "      <td>good</td>\n",
       "    </tr>\n",
       "    <tr>\n",
       "      <th>3</th>\n",
       "      <td>'existing paid'</td>\n",
       "      <td>2039</td>\n",
       "      <td>1&lt;=X&lt;4</td>\n",
       "      <td>'real estate'</td>\n",
       "      <td>20</td>\n",
       "      <td>bad</td>\n",
       "    </tr>\n",
       "    <tr>\n",
       "      <th>4</th>\n",
       "      <td>'critical/other existing credit'</td>\n",
       "      <td>4272</td>\n",
       "      <td>&gt;=7</td>\n",
       "      <td>'life insurance'</td>\n",
       "      <td>24</td>\n",
       "      <td>good</td>\n",
       "    </tr>\n",
       "  </tbody>\n",
       "</table>\n",
       "</div>"
      ],
      "text/plain": [
       "                     credit_history credit_amount employment  \\\n",
       "0                   'existing paid'          1924     1<=X<4   \n",
       "1                   'existing paid'          7297        >=7   \n",
       "2                   'existing paid'          1278        >=7   \n",
       "3                   'existing paid'          2039     1<=X<4   \n",
       "4  'critical/other existing credit'          4272        >=7   \n",
       "\n",
       "    property_magnitude age class  \n",
       "0     'life insurance'  38  good  \n",
       "1  'no known property'  36   bad  \n",
       "2        'real estate'  36  good  \n",
       "3        'real estate'  20   bad  \n",
       "4     'life insurance'  24  good  "
      ]
     },
     "execution_count": 5,
     "metadata": {},
     "output_type": "execute_result"
    }
   ],
   "source": [
    "df.head()"
   ]
  },
  {
   "cell_type": "code",
   "execution_count": 6,
   "id": "fbf1bc38-65e9-4f16-8203-a0f7a5811aea",
   "metadata": {},
   "outputs": [
    {
     "data": {
      "text/plain": [
       "'existing paid'                     394\n",
       "'critical/other existing credit'    218\n",
       "'delayed previously'                 62\n",
       "'all paid'                           40\n",
       "'no credits/all paid'                31\n",
       "?                                     5\n",
       "Name: credit_history, dtype: int64"
      ]
     },
     "execution_count": 6,
     "metadata": {},
     "output_type": "execute_result"
    }
   ],
   "source": [
    "df['credit_history'].value_counts() #missing values tespiti"
   ]
  },
  {
   "cell_type": "code",
   "execution_count": 7,
   "id": "79da2d8b-c4c0-4655-a6d0-da1139b59a79",
   "metadata": {},
   "outputs": [
    {
     "data": {
      "text/plain": [
       "1258    3\n",
       "?       3\n",
       "1924    2\n",
       "1374    2\n",
       "1275    2\n",
       "       ..\n",
       "2820    1\n",
       "1569    1\n",
       "1820    1\n",
       "2606    1\n",
       "1007    1\n",
       "Name: credit_amount, Length: 708, dtype: int64"
      ]
     },
     "execution_count": 7,
     "metadata": {},
     "output_type": "execute_result"
    }
   ],
   "source": [
    "df['credit_amount'].value_counts()"
   ]
  },
  {
   "cell_type": "code",
   "execution_count": 8,
   "id": "05755d76-bbad-457b-9e3e-bcb127b48232",
   "metadata": {},
   "outputs": [
    {
     "data": {
      "text/plain": [
       "1<=X<4        255\n",
       ">=7           187\n",
       "4<=X<7        129\n",
       "<1            129\n",
       "unemployed     50\n",
       "Name: employment, dtype: int64"
      ]
     },
     "execution_count": 8,
     "metadata": {},
     "output_type": "execute_result"
    }
   ],
   "source": [
    "df['employment'].value_counts()"
   ]
  },
  {
   "cell_type": "code",
   "execution_count": 9,
   "id": "9a47b8cc-e5e1-4b74-86d7-ea40e5b905ea",
   "metadata": {},
   "outputs": [
    {
     "data": {
      "text/plain": [
       "car                    253\n",
       "'real estate'          201\n",
       "'life insurance'       173\n",
       "'no known property'    120\n",
       "?                        3\n",
       "Name: property_magnitude, dtype: int64"
      ]
     },
     "execution_count": 9,
     "metadata": {},
     "output_type": "execute_result"
    }
   ],
   "source": [
    "df['property_magnitude'].value_counts()"
   ]
  },
  {
   "cell_type": "code",
   "execution_count": 10,
   "id": "2741a91d-c0d5-4223-8416-acb85e056c08",
   "metadata": {},
   "outputs": [
    {
     "data": {
      "text/plain": [
       "27    39\n",
       "26    38\n",
       "23    34\n",
       "24    33\n",
       "25    32\n",
       "29    31\n",
       "28    30\n",
       "30    30\n",
       "31    28\n",
       "33    28\n",
       "32    27\n",
       "35    25\n",
       "36    25\n",
       "37    24\n",
       "22    24\n",
       "34    20\n",
       "38    18\n",
       "42    18\n",
       "46    15\n",
       "40    15\n",
       "41    14\n",
       "39    14\n",
       "47    13\n",
       "44    13\n",
       "43    12\n",
       "48    11\n",
       "20    11\n",
       "21    10\n",
       "49     9\n",
       "45     9\n",
       "?      9\n",
       "50     9\n",
       "52     9\n",
       "63     8\n",
       "54     6\n",
       "53     6\n",
       "57     6\n",
       "51     6\n",
       "55     5\n",
       "65     4\n",
       "60     4\n",
       "61     4\n",
       "64     3\n",
       "74     3\n",
       "66     3\n",
       "68     3\n",
       "58     2\n",
       "56     2\n",
       "59     2\n",
       "62     2\n",
       "75     1\n",
       "70     1\n",
       "67     1\n",
       "19     1\n",
       "Name: age, dtype: int64"
      ]
     },
     "execution_count": 10,
     "metadata": {},
     "output_type": "execute_result"
    }
   ],
   "source": [
    "df['age'].value_counts()"
   ]
  },
  {
   "cell_type": "code",
   "execution_count": 11,
   "id": "e0a6302f-be4a-474b-acf3-a980857adfc0",
   "metadata": {},
   "outputs": [
    {
     "data": {
      "text/plain": [
       "good    524\n",
       "bad     226\n",
       "Name: class, dtype: int64"
      ]
     },
     "execution_count": 11,
     "metadata": {},
     "output_type": "execute_result"
    }
   ],
   "source": [
    "df['class'].value_counts()"
   ]
  },
  {
   "cell_type": "code",
   "execution_count": 12,
   "id": "a66328ca-9cb4-4007-a8de-cc96836ee448",
   "metadata": {},
   "outputs": [
    {
     "data": {
      "text/plain": [
       "0    good\n",
       "1     bad\n",
       "2    good\n",
       "3     bad\n",
       "4    good\n",
       "Name: class, dtype: object"
      ]
     },
     "execution_count": 12,
     "metadata": {},
     "output_type": "execute_result"
    }
   ],
   "source": [
    "df['class'].head()"
   ]
  },
  {
   "cell_type": "code",
   "execution_count": 13,
   "id": "4b712704-59b3-4d76-9020-27742829c74e",
   "metadata": {},
   "outputs": [
    {
     "name": "stdout",
     "output_type": "stream",
     "text": [
      "<class 'pandas.core.frame.DataFrame'>\n",
      "RangeIndex: 750 entries, 0 to 749\n",
      "Data columns (total 6 columns):\n",
      " #   Column              Non-Null Count  Dtype \n",
      "---  ------              --------------  ----- \n",
      " 0   credit_history      750 non-null    object\n",
      " 1   credit_amount       750 non-null    object\n",
      " 2   employment          750 non-null    object\n",
      " 3   property_magnitude  750 non-null    object\n",
      " 4   age                 750 non-null    object\n",
      " 5   class               750 non-null    object\n",
      "dtypes: object(6)\n",
      "memory usage: 35.3+ KB\n"
     ]
    }
   ],
   "source": [
    "df.info()"
   ]
  },
  {
   "cell_type": "code",
   "execution_count": 14,
   "id": "cdc5dc60-3a01-4313-aa81-bdd2e985e60a",
   "metadata": {},
   "outputs": [
    {
     "data": {
      "text/plain": [
       "0    1\n",
       "1    0\n",
       "2    1\n",
       "3    0\n",
       "4    1\n",
       "Name: class, dtype: int64"
      ]
     },
     "execution_count": 14,
     "metadata": {},
     "output_type": "execute_result"
    }
   ],
   "source": [
    "df[\"class\"] = df[\"class\"].replace([\"good\", \"bad\"],[1,0]) #class ı object ten int e ve ikili sayiya cevirme\n",
    "df['class'].head()"
   ]
  },
  {
   "cell_type": "code",
   "execution_count": 15,
   "id": "f747b543-f00d-4057-97cd-07404ef65628",
   "metadata": {},
   "outputs": [
    {
     "data": {
      "text/html": [
       "<div>\n",
       "<style scoped>\n",
       "    .dataframe tbody tr th:only-of-type {\n",
       "        vertical-align: middle;\n",
       "    }\n",
       "\n",
       "    .dataframe tbody tr th {\n",
       "        vertical-align: top;\n",
       "    }\n",
       "\n",
       "    .dataframe thead th {\n",
       "        text-align: right;\n",
       "    }\n",
       "</style>\n",
       "<table border=\"1\" class=\"dataframe\">\n",
       "  <thead>\n",
       "    <tr style=\"text-align: right;\">\n",
       "      <th></th>\n",
       "      <th>credit_history</th>\n",
       "      <th>credit_amount</th>\n",
       "      <th>employment</th>\n",
       "      <th>property_magnitude</th>\n",
       "      <th>age</th>\n",
       "      <th>class</th>\n",
       "    </tr>\n",
       "  </thead>\n",
       "  <tbody>\n",
       "    <tr>\n",
       "      <th>0</th>\n",
       "      <td>'existing paid'</td>\n",
       "      <td>1924</td>\n",
       "      <td>1&lt;=X&lt;4</td>\n",
       "      <td>'life insurance'</td>\n",
       "      <td>38</td>\n",
       "      <td>1</td>\n",
       "    </tr>\n",
       "    <tr>\n",
       "      <th>1</th>\n",
       "      <td>'existing paid'</td>\n",
       "      <td>7297</td>\n",
       "      <td>&gt;=7</td>\n",
       "      <td>'no known property'</td>\n",
       "      <td>36</td>\n",
       "      <td>0</td>\n",
       "    </tr>\n",
       "    <tr>\n",
       "      <th>2</th>\n",
       "      <td>'existing paid'</td>\n",
       "      <td>1278</td>\n",
       "      <td>&gt;=7</td>\n",
       "      <td>'real estate'</td>\n",
       "      <td>36</td>\n",
       "      <td>1</td>\n",
       "    </tr>\n",
       "    <tr>\n",
       "      <th>3</th>\n",
       "      <td>'existing paid'</td>\n",
       "      <td>2039</td>\n",
       "      <td>1&lt;=X&lt;4</td>\n",
       "      <td>'real estate'</td>\n",
       "      <td>20</td>\n",
       "      <td>0</td>\n",
       "    </tr>\n",
       "    <tr>\n",
       "      <th>4</th>\n",
       "      <td>'critical/other existing credit'</td>\n",
       "      <td>4272</td>\n",
       "      <td>&gt;=7</td>\n",
       "      <td>'life insurance'</td>\n",
       "      <td>24</td>\n",
       "      <td>1</td>\n",
       "    </tr>\n",
       "  </tbody>\n",
       "</table>\n",
       "</div>"
      ],
      "text/plain": [
       "                     credit_history credit_amount employment  \\\n",
       "0                   'existing paid'          1924     1<=X<4   \n",
       "1                   'existing paid'          7297        >=7   \n",
       "2                   'existing paid'          1278        >=7   \n",
       "3                   'existing paid'          2039     1<=X<4   \n",
       "4  'critical/other existing credit'          4272        >=7   \n",
       "\n",
       "    property_magnitude age  class  \n",
       "0     'life insurance'  38      1  \n",
       "1  'no known property'  36      0  \n",
       "2        'real estate'  36      1  \n",
       "3        'real estate'  20      0  \n",
       "4     'life insurance'  24      1  "
      ]
     },
     "execution_count": 15,
     "metadata": {},
     "output_type": "execute_result"
    }
   ],
   "source": [
    "df.head()"
   ]
  },
  {
   "cell_type": "code",
   "execution_count": 16,
   "id": "e11d9032-f0cc-4724-8e9b-69a990d67914",
   "metadata": {},
   "outputs": [
    {
     "name": "stdout",
     "output_type": "stream",
     "text": [
      "<class 'pandas.core.frame.DataFrame'>\n",
      "RangeIndex: 750 entries, 0 to 749\n",
      "Data columns (total 6 columns):\n",
      " #   Column              Non-Null Count  Dtype \n",
      "---  ------              --------------  ----- \n",
      " 0   credit_history      750 non-null    object\n",
      " 1   credit_amount       750 non-null    object\n",
      " 2   employment          750 non-null    object\n",
      " 3   property_magnitude  750 non-null    object\n",
      " 4   age                 750 non-null    object\n",
      " 5   class               750 non-null    int64 \n",
      "dtypes: int64(1), object(5)\n",
      "memory usage: 35.3+ KB\n"
     ]
    }
   ],
   "source": [
    "df.info()"
   ]
  },
  {
   "cell_type": "code",
   "execution_count": 17,
   "id": "f5525787-6ff9-4a75-a464-5be021845d14",
   "metadata": {},
   "outputs": [],
   "source": [
    "df['age'].replace('?', np.NaN, inplace=True) #missing values olan degerleri np.NaN degerine donusturerek dropna kullanabilmeyi saglama"
   ]
  },
  {
   "cell_type": "code",
   "execution_count": 18,
   "id": "a8a09f93-05aa-4b92-82fc-0b2c1f4498df",
   "metadata": {},
   "outputs": [],
   "source": [
    "df.dropna(how=\"any\",inplace=True) #missing degerleri filtreleme, inplace kalicilik sagliyor"
   ]
  },
  {
   "cell_type": "code",
   "execution_count": 19,
   "id": "70f5db8b-0735-4d61-8106-69d91245f1ec",
   "metadata": {},
   "outputs": [
    {
     "data": {
      "text/plain": [
       "27    39\n",
       "26    38\n",
       "23    34\n",
       "24    33\n",
       "25    32\n",
       "29    31\n",
       "28    30\n",
       "30    30\n",
       "31    28\n",
       "33    28\n",
       "32    27\n",
       "35    25\n",
       "36    25\n",
       "37    24\n",
       "22    24\n",
       "34    20\n",
       "38    18\n",
       "42    18\n",
       "46    15\n",
       "40    15\n",
       "41    14\n",
       "39    14\n",
       "47    13\n",
       "44    13\n",
       "43    12\n",
       "48    11\n",
       "20    11\n",
       "21    10\n",
       "49     9\n",
       "45     9\n",
       "50     9\n",
       "52     9\n",
       "63     8\n",
       "54     6\n",
       "53     6\n",
       "57     6\n",
       "51     6\n",
       "55     5\n",
       "65     4\n",
       "60     4\n",
       "61     4\n",
       "64     3\n",
       "74     3\n",
       "66     3\n",
       "68     3\n",
       "58     2\n",
       "56     2\n",
       "59     2\n",
       "62     2\n",
       "75     1\n",
       "70     1\n",
       "67     1\n",
       "19     1\n",
       "Name: age, dtype: int64"
      ]
     },
     "execution_count": 19,
     "metadata": {},
     "output_type": "execute_result"
    }
   ],
   "source": [
    "df['age'].value_counts()"
   ]
  },
  {
   "cell_type": "code",
   "execution_count": 20,
   "id": "e52d580a-8570-4124-9310-357614ac9daa",
   "metadata": {},
   "outputs": [
    {
     "data": {
      "text/plain": [
       "'existing paid'                     386\n",
       "'critical/other existing credit'    217\n",
       "'delayed previously'                 62\n",
       "'all paid'                           40\n",
       "'no credits/all paid'                31\n",
       "?                                     5\n",
       "Name: credit_history, dtype: int64"
      ]
     },
     "execution_count": 20,
     "metadata": {},
     "output_type": "execute_result"
    }
   ],
   "source": [
    "df['credit_history'].value_counts()"
   ]
  },
  {
   "cell_type": "code",
   "execution_count": 21,
   "id": "d7a43891-ac5d-4f32-8263-5cae0eb01b22",
   "metadata": {},
   "outputs": [],
   "source": [
    "df['credit_history'].replace('?', np.NaN, inplace=True)"
   ]
  },
  {
   "cell_type": "code",
   "execution_count": 22,
   "id": "ff85f3c0-2a1b-4c65-a9f6-694b347a18ba",
   "metadata": {},
   "outputs": [],
   "source": [
    "df.dropna(how=\"any\",inplace=True)"
   ]
  },
  {
   "cell_type": "code",
   "execution_count": 23,
   "id": "97980abf-698a-453f-8694-e420a7c054f3",
   "metadata": {},
   "outputs": [
    {
     "data": {
      "text/plain": [
       "'existing paid'                     386\n",
       "'critical/other existing credit'    217\n",
       "'delayed previously'                 62\n",
       "'all paid'                           40\n",
       "'no credits/all paid'                31\n",
       "Name: credit_history, dtype: int64"
      ]
     },
     "execution_count": 23,
     "metadata": {},
     "output_type": "execute_result"
    }
   ],
   "source": [
    "df['credit_history'].value_counts()"
   ]
  },
  {
   "cell_type": "code",
   "execution_count": 24,
   "id": "b4eb1079-6f64-4ac6-9b77-02666d9cffdf",
   "metadata": {},
   "outputs": [
    {
     "data": {
      "text/plain": [
       "(736, 6)"
      ]
     },
     "execution_count": 24,
     "metadata": {},
     "output_type": "execute_result"
    }
   ],
   "source": [
    "df.shape"
   ]
  },
  {
   "cell_type": "code",
   "execution_count": 25,
   "id": "4d496884-b12e-4c27-8201-dd623866bd1c",
   "metadata": {},
   "outputs": [],
   "source": [
    "df['employment'].replace('?', np.NaN, inplace=True)"
   ]
  },
  {
   "cell_type": "code",
   "execution_count": 26,
   "id": "ad6bd096-37cb-4b90-84b9-71f965221cd7",
   "metadata": {},
   "outputs": [],
   "source": [
    "df.dropna(how=\"any\",inplace=True) "
   ]
  },
  {
   "cell_type": "code",
   "execution_count": 27,
   "id": "758ed36c-a33c-4d78-91bd-309860e8982a",
   "metadata": {},
   "outputs": [
    {
     "data": {
      "text/plain": [
       "1<=X<4        250\n",
       ">=7           183\n",
       "<1            128\n",
       "4<=X<7        126\n",
       "unemployed     49\n",
       "Name: employment, dtype: int64"
      ]
     },
     "execution_count": 27,
     "metadata": {},
     "output_type": "execute_result"
    }
   ],
   "source": [
    "df['employment'].value_counts()"
   ]
  },
  {
   "cell_type": "code",
   "execution_count": 28,
   "id": "71aaa3fa-f98e-4c81-ac82-659900534d14",
   "metadata": {},
   "outputs": [],
   "source": [
    "df['credit_amount'].replace('?', np.NaN, inplace=True)"
   ]
  },
  {
   "cell_type": "code",
   "execution_count": 29,
   "id": "e8de176a-d378-422e-a231-16b5701307d0",
   "metadata": {},
   "outputs": [],
   "source": [
    "df.dropna(how=\"any\",inplace=True) "
   ]
  },
  {
   "cell_type": "code",
   "execution_count": 30,
   "id": "e2af732d-9e2e-414e-8632-dd94883b8404",
   "metadata": {},
   "outputs": [
    {
     "data": {
      "text/plain": [
       "1258    3\n",
       "1924    2\n",
       "1546    2\n",
       "1474    2\n",
       "1597    2\n",
       "       ..\n",
       "685     1\n",
       "6361    1\n",
       "3905    1\n",
       "1038    1\n",
       "1007    1\n",
       "Name: credit_amount, Length: 694, dtype: int64"
      ]
     },
     "execution_count": 30,
     "metadata": {},
     "output_type": "execute_result"
    }
   ],
   "source": [
    "df['credit_amount'].value_counts()"
   ]
  },
  {
   "cell_type": "code",
   "execution_count": 31,
   "id": "fa4142df-68d3-4f74-a412-ddadd9838514",
   "metadata": {},
   "outputs": [],
   "source": [
    "df['property_magnitude'].replace('?', np.NaN, inplace=True)"
   ]
  },
  {
   "cell_type": "code",
   "execution_count": 32,
   "id": "de3a971b-dc8c-476c-a287-e88442881c81",
   "metadata": {},
   "outputs": [],
   "source": [
    "df.dropna(how=\"any\",inplace=True) "
   ]
  },
  {
   "cell_type": "code",
   "execution_count": 33,
   "id": "d4ff6a29-f464-460c-9742-c138a46e3e44",
   "metadata": {},
   "outputs": [
    {
     "data": {
      "text/plain": [
       "car                    246\n",
       "'real estate'          200\n",
       "'life insurance'       165\n",
       "'no known property'    119\n",
       "Name: property_magnitude, dtype: int64"
      ]
     },
     "execution_count": 33,
     "metadata": {},
     "output_type": "execute_result"
    }
   ],
   "source": [
    "df['property_magnitude'].value_counts()"
   ]
  },
  {
   "cell_type": "code",
   "execution_count": 34,
   "id": "4fa58257-5bac-48c0-921d-23054afafe08",
   "metadata": {},
   "outputs": [
    {
     "name": "stdout",
     "output_type": "stream",
     "text": [
      "<class 'pandas.core.frame.DataFrame'>\n",
      "Int64Index: 730 entries, 0 to 749\n",
      "Data columns (total 6 columns):\n",
      " #   Column              Non-Null Count  Dtype \n",
      "---  ------              --------------  ----- \n",
      " 0   credit_history      730 non-null    object\n",
      " 1   credit_amount       730 non-null    object\n",
      " 2   employment          730 non-null    object\n",
      " 3   property_magnitude  730 non-null    object\n",
      " 4   age                 730 non-null    object\n",
      " 5   class               730 non-null    int64 \n",
      "dtypes: int64(1), object(5)\n",
      "memory usage: 39.9+ KB\n"
     ]
    }
   ],
   "source": [
    "df.info() #dtype lari encode lamak icin numerik olan degerleri donusturmek gerekiyor"
   ]
  },
  {
   "cell_type": "code",
   "execution_count": 35,
   "id": "88452f8f-0ba1-443b-b83e-1e720f789ac0",
   "metadata": {},
   "outputs": [],
   "source": [
    "df['age'] = df['age'].astype('int64')\n",
    "df['credit_amount'] = df['credit_amount'].astype('int64')"
   ]
  },
  {
   "cell_type": "code",
   "execution_count": 36,
   "id": "22f79bea-f64e-43e8-a85b-2aa55f45514c",
   "metadata": {},
   "outputs": [
    {
     "name": "stdout",
     "output_type": "stream",
     "text": [
      "<class 'pandas.core.frame.DataFrame'>\n",
      "Int64Index: 730 entries, 0 to 749\n",
      "Data columns (total 6 columns):\n",
      " #   Column              Non-Null Count  Dtype \n",
      "---  ------              --------------  ----- \n",
      " 0   credit_history      730 non-null    object\n",
      " 1   credit_amount       730 non-null    int64 \n",
      " 2   employment          730 non-null    object\n",
      " 3   property_magnitude  730 non-null    object\n",
      " 4   age                 730 non-null    int64 \n",
      " 5   class               730 non-null    int64 \n",
      "dtypes: int64(3), object(3)\n",
      "memory usage: 39.9+ KB\n"
     ]
    }
   ],
   "source": [
    "df.info()"
   ]
  },
  {
   "cell_type": "code",
   "execution_count": 48,
   "id": "1b17ffb5-e4af-4dc3-ba89-1cd33eeb2e27",
   "metadata": {},
   "outputs": [],
   "source": [
    "X = df.drop(['class'], axis=1)\n",
    "\n",
    "y = df['class']"
   ]
  },
  {
   "cell_type": "code",
   "execution_count": 49,
   "id": "0de861c9-45cd-415b-9bc4-d7246b514bb2",
   "metadata": {},
   "outputs": [
    {
     "data": {
      "text/html": [
       "<div>\n",
       "<style scoped>\n",
       "    .dataframe tbody tr th:only-of-type {\n",
       "        vertical-align: middle;\n",
       "    }\n",
       "\n",
       "    .dataframe tbody tr th {\n",
       "        vertical-align: top;\n",
       "    }\n",
       "\n",
       "    .dataframe thead th {\n",
       "        text-align: right;\n",
       "    }\n",
       "</style>\n",
       "<table border=\"1\" class=\"dataframe\">\n",
       "  <thead>\n",
       "    <tr style=\"text-align: right;\">\n",
       "      <th></th>\n",
       "      <th>credit_amount</th>\n",
       "      <th>age</th>\n",
       "      <th>class</th>\n",
       "    </tr>\n",
       "  </thead>\n",
       "  <tbody>\n",
       "    <tr>\n",
       "      <th>0</th>\n",
       "      <td>1924</td>\n",
       "      <td>38</td>\n",
       "      <td>1</td>\n",
       "    </tr>\n",
       "    <tr>\n",
       "      <th>1</th>\n",
       "      <td>7297</td>\n",
       "      <td>36</td>\n",
       "      <td>0</td>\n",
       "    </tr>\n",
       "    <tr>\n",
       "      <th>2</th>\n",
       "      <td>1278</td>\n",
       "      <td>36</td>\n",
       "      <td>1</td>\n",
       "    </tr>\n",
       "    <tr>\n",
       "      <th>3</th>\n",
       "      <td>2039</td>\n",
       "      <td>20</td>\n",
       "      <td>0</td>\n",
       "    </tr>\n",
       "    <tr>\n",
       "      <th>4</th>\n",
       "      <td>4272</td>\n",
       "      <td>24</td>\n",
       "      <td>1</td>\n",
       "    </tr>\n",
       "  </tbody>\n",
       "</table>\n",
       "</div>"
      ],
      "text/plain": [
       "   credit_amount  age  class\n",
       "0           1924   38      1\n",
       "1           7297   36      0\n",
       "2           1278   36      1\n",
       "3           2039   20      0\n",
       "4           4272   24      1"
      ]
     },
     "execution_count": 49,
     "metadata": {},
     "output_type": "execute_result"
    }
   ],
   "source": [
    "df[numerical].head()"
   ]
  },
  {
   "cell_type": "code",
   "execution_count": 50,
   "id": "dd0a8237-10ca-445e-9eb4-8439132bf6a2",
   "metadata": {},
   "outputs": [
    {
     "name": "stdout",
     "output_type": "stream",
     "text": [
      "<class 'pandas.core.frame.DataFrame'>\n",
      "RangeIndex: 250 entries, 0 to 249\n",
      "Data columns (total 6 columns):\n",
      " #   Column              Non-Null Count  Dtype \n",
      "---  ------              --------------  ----- \n",
      " 0   credit_history      250 non-null    object\n",
      " 1   credit_amount       250 non-null    object\n",
      " 2   employment          250 non-null    object\n",
      " 3   property_magnitude  250 non-null    object\n",
      " 4   age                 250 non-null    object\n",
      " 5   class               250 non-null    object\n",
      "dtypes: object(6)\n",
      "memory usage: 11.8+ KB\n"
     ]
    }
   ],
   "source": [
    "from sklearn.model_selection import train_test_split\n",
    "\n",
    "df2.info()"
   ]
  },
  {
   "cell_type": "code",
   "execution_count": 51,
   "id": "af8855f5-5036-4ba8-9096-134399d53d02",
   "metadata": {},
   "outputs": [
    {
     "data": {
      "text/plain": [
       "'existing paid'                     130\n",
       "'critical/other existing credit'     72\n",
       "'delayed previously'                 25\n",
       "'all paid'                            9\n",
       "'no credits/all paid'                 8\n",
       "?                                     6\n",
       "Name: credit_history, dtype: int64"
      ]
     },
     "execution_count": 51,
     "metadata": {},
     "output_type": "execute_result"
    }
   ],
   "source": [
    "df2['credit_history'].value_counts()"
   ]
  },
  {
   "cell_type": "code",
   "execution_count": 52,
   "id": "f0c70671-a5fa-422e-b1dc-d02419bfe847",
   "metadata": {},
   "outputs": [
    {
     "data": {
      "text/plain": [
       "0    1\n",
       "1    1\n",
       "2    0\n",
       "3    1\n",
       "4    0\n",
       "Name: class, dtype: int64"
      ]
     },
     "execution_count": 52,
     "metadata": {},
     "output_type": "execute_result"
    }
   ],
   "source": [
    "df2[\"class\"] = df2[\"class\"].replace([\"good\", \"bad\"],[1,0])\n",
    "df2['class'].head()"
   ]
  },
  {
   "cell_type": "code",
   "execution_count": 53,
   "id": "341133ef-ec1d-4bee-bedf-52735aa12dd8",
   "metadata": {},
   "outputs": [
    {
     "name": "stdout",
     "output_type": "stream",
     "text": [
      "<class 'pandas.core.frame.DataFrame'>\n",
      "RangeIndex: 250 entries, 0 to 249\n",
      "Data columns (total 6 columns):\n",
      " #   Column              Non-Null Count  Dtype \n",
      "---  ------              --------------  ----- \n",
      " 0   credit_history      250 non-null    object\n",
      " 1   credit_amount       250 non-null    object\n",
      " 2   employment          250 non-null    object\n",
      " 3   property_magnitude  250 non-null    object\n",
      " 4   age                 250 non-null    object\n",
      " 5   class               250 non-null    int64 \n",
      "dtypes: int64(1), object(5)\n",
      "memory usage: 11.8+ KB\n"
     ]
    }
   ],
   "source": [
    "df2.info()"
   ]
  },
  {
   "cell_type": "code",
   "execution_count": 54,
   "id": "a24c364f-c972-4b1e-ac42-30f3ac5acc45",
   "metadata": {},
   "outputs": [],
   "source": [
    "df2['age'].replace('?', np.NaN, inplace=True)"
   ]
  },
  {
   "cell_type": "code",
   "execution_count": 55,
   "id": "eb2644a5-fa25-403c-b623-5a7baafd052a",
   "metadata": {},
   "outputs": [],
   "source": [
    "df2.dropna(how=\"any\",inplace=True) "
   ]
  },
  {
   "cell_type": "code",
   "execution_count": 57,
   "id": "d59c0c6f-b67e-4958-9d33-bc1de8d4d9c1",
   "metadata": {},
   "outputs": [],
   "source": [
    "df2['property_magnitude'].replace('?', np.NaN, inplace=True)"
   ]
  },
  {
   "cell_type": "code",
   "execution_count": 58,
   "id": "b14a87d2-4ae6-41b9-9054-94fa0b6889bd",
   "metadata": {},
   "outputs": [],
   "source": [
    "df2.dropna(how=\"any\",inplace=True) "
   ]
  },
  {
   "cell_type": "code",
   "execution_count": 59,
   "id": "ec09dbfb-ba92-4cc8-9e17-88811ee4f887",
   "metadata": {},
   "outputs": [],
   "source": [
    "df2['employment'].replace('?', np.NaN, inplace=True)"
   ]
  },
  {
   "cell_type": "code",
   "execution_count": 60,
   "id": "e3e541f0-b21c-44b6-9a17-22e84111db4d",
   "metadata": {},
   "outputs": [],
   "source": [
    "df2.dropna(how=\"any\",inplace=True) "
   ]
  },
  {
   "cell_type": "code",
   "execution_count": 61,
   "id": "cde8f8df-759c-4240-ab7c-4220acf4df71",
   "metadata": {},
   "outputs": [],
   "source": [
    "df2['credit_amount'].replace('?', np.NaN, inplace=True)"
   ]
  },
  {
   "cell_type": "code",
   "execution_count": 62,
   "id": "bd08d2c0-68eb-4311-9921-c0c33c29526a",
   "metadata": {},
   "outputs": [],
   "source": [
    "df2.dropna(how=\"any\",inplace=True) "
   ]
  },
  {
   "cell_type": "code",
   "execution_count": 63,
   "id": "f49a09b0-a3cd-4a1b-8416-f824645b8238",
   "metadata": {},
   "outputs": [],
   "source": [
    "df2['credit_history'].replace('?', np.NaN, inplace=True)"
   ]
  },
  {
   "cell_type": "code",
   "execution_count": 64,
   "id": "e1a2a59b-746e-4b4b-89ed-7a4020ba1f26",
   "metadata": {},
   "outputs": [],
   "source": [
    "df2.dropna(how=\"any\",inplace=True) "
   ]
  },
  {
   "cell_type": "code",
   "execution_count": 65,
   "id": "3f3782c2-7d15-4894-9b41-878296f6b973",
   "metadata": {},
   "outputs": [],
   "source": [
    "df2['age'] = df2['age'].astype('int64')\n",
    "df2['credit_amount'] = df2['credit_amount'].astype('int64')"
   ]
  },
  {
   "cell_type": "code",
   "execution_count": 66,
   "id": "1b220613-b46a-441f-a161-c4974b5929f6",
   "metadata": {},
   "outputs": [
    {
     "name": "stdout",
     "output_type": "stream",
     "text": [
      "<class 'pandas.core.frame.DataFrame'>\n",
      "Int64Index: 228 entries, 0 to 249\n",
      "Data columns (total 6 columns):\n",
      " #   Column              Non-Null Count  Dtype \n",
      "---  ------              --------------  ----- \n",
      " 0   credit_history      228 non-null    object\n",
      " 1   credit_amount       228 non-null    int64 \n",
      " 2   employment          228 non-null    object\n",
      " 3   property_magnitude  228 non-null    object\n",
      " 4   age                 228 non-null    int64 \n",
      " 5   class               228 non-null    int64 \n",
      "dtypes: int64(3), object(3)\n",
      "memory usage: 12.5+ KB\n"
     ]
    }
   ],
   "source": [
    "df2.info()"
   ]
  },
  {
   "cell_type": "code",
   "execution_count": 67,
   "id": "abf3f1be-b293-4e6a-8918-ed888c32a930",
   "metadata": {},
   "outputs": [
    {
     "data": {
      "text/plain": [
       "'existing paid'                     121\n",
       "'critical/other existing credit'     67\n",
       "'delayed previously'                 25\n",
       "'all paid'                            8\n",
       "'no credits/all paid'                 7\n",
       "Name: credit_history, dtype: int64"
      ]
     },
     "execution_count": 67,
     "metadata": {},
     "output_type": "execute_result"
    }
   ],
   "source": [
    "df2['credit_history'].value_counts() "
   ]
  },
  {
   "cell_type": "code",
   "execution_count": 68,
   "id": "95e2291a-3106-4fe5-91c8-49962f6c8195",
   "metadata": {},
   "outputs": [
    {
     "data": {
      "text/plain": [
       "(228, 6)"
      ]
     },
     "execution_count": 68,
     "metadata": {},
     "output_type": "execute_result"
    }
   ],
   "source": [
    "df2.shape"
   ]
  },
  {
   "cell_type": "code",
   "execution_count": 69,
   "id": "904fc7cc-5efe-49eb-99a0-d3479f1b4ede",
   "metadata": {},
   "outputs": [],
   "source": [
    "X2 = df2.drop(['class'], axis=1) #algoritmaya girecek degiskenler\n",
    "y2 = df2['class']"
   ]
  },
  {
   "cell_type": "code",
   "execution_count": 70,
   "id": "41cc6b1d-9488-48cd-8b10-6718a37c6438",
   "metadata": {},
   "outputs": [
    {
     "data": {
      "text/plain": [
       "0    1\n",
       "1    1\n",
       "2    0\n",
       "3    1\n",
       "4    0\n",
       "Name: class, dtype: int64"
      ]
     },
     "execution_count": 70,
     "metadata": {},
     "output_type": "execute_result"
    }
   ],
   "source": [
    "X_train = X\n",
    "X_test = X2\n",
    "y_train = y\n",
    "y_test = y2\n",
    "y_test.head()"
   ]
  },
  {
   "cell_type": "code",
   "execution_count": 71,
   "id": "d951ba98-6a61-4c56-9a68-d2b9051db2dd",
   "metadata": {},
   "outputs": [
    {
     "data": {
      "text/plain": [
       "((730, 5), (228, 5))"
      ]
     },
     "execution_count": 71,
     "metadata": {},
     "output_type": "execute_result"
    }
   ],
   "source": [
    "X_train.shape, X_test.shape"
   ]
  },
  {
   "cell_type": "code",
   "execution_count": 72,
   "id": "f2b36c69-7fbf-418b-b299-6747833ee655",
   "metadata": {},
   "outputs": [
    {
     "data": {
      "text/plain": [
       "credit_history        object\n",
       "credit_amount          int64\n",
       "employment            object\n",
       "property_magnitude    object\n",
       "age                    int64\n",
       "dtype: object"
      ]
     },
     "execution_count": 72,
     "metadata": {},
     "output_type": "execute_result"
    }
   ],
   "source": [
    "X_train.dtypes"
   ]
  },
  {
   "cell_type": "code",
   "execution_count": null,
   "id": "d211943e-1bbb-4fbd-b4a6-8b63488751f3",
   "metadata": {},
   "outputs": [],
   "source": [
    "import category_encoders as ce # fitting ve transform islemleri"
   ]
  },
  {
   "cell_type": "code",
   "execution_count": null,
   "id": "0ea74682-1dea-42fe-9e2e-d362e7b2e858",
   "metadata": {},
   "outputs": [],
   "source": [
    "encoder = ce.OneHotEncoder(cols=['credit_history', 'credit_amount', 'employment', 'property_magnitude', 'age'])\n",
    "\n",
    "X_train = encoder.fit_transform(X_train)\n",
    "\n",
    "X_test = encoder.transform(X_test)"
   ]
  },
  {
   "cell_type": "code",
   "execution_count": null,
   "id": "cde496de-a8eb-439d-9ad3-c974657fc301",
   "metadata": {},
   "outputs": [],
   "source": [
    "cols = X_train.columns"
   ]
  },
  {
   "cell_type": "code",
   "execution_count": null,
   "id": "9b1d8335-13a3-4697-8223-c2203a03b2f8",
   "metadata": {},
   "outputs": [],
   "source": [
    "from sklearn.preprocessing import RobustScaler\n",
    "\n",
    "scaler = RobustScaler()\n",
    "\n",
    "X_train = scaler.fit_transform(X_train)\n",
    "\n",
    "X_test = scaler.transform(X_test)"
   ]
  },
  {
   "cell_type": "code",
   "execution_count": null,
   "id": "881ff175-9fb7-4df3-9347-25ab32c20988",
   "metadata": {},
   "outputs": [],
   "source": [
    "X_train = pd.DataFrame(X_train, columns=[cols])"
   ]
  },
  {
   "cell_type": "code",
   "execution_count": null,
   "id": "e6488657-7fd4-4b42-9b22-c8b980065366",
   "metadata": {},
   "outputs": [],
   "source": [
    "X_test = pd.DataFrame(X_test, columns=[cols])"
   ]
  },
  {
   "cell_type": "code",
   "execution_count": null,
   "id": "4df64c50-00c1-43a3-a91a-5cf25f1fb660",
   "metadata": {},
   "outputs": [],
   "source": [
    "X_train.head()"
   ]
  },
  {
   "cell_type": "code",
   "execution_count": null,
   "id": "4f0bd204-f037-4de9-97aa-677a0e85d668",
   "metadata": {},
   "outputs": [],
   "source": [
    "from sklearn.naive_bayes import GaussianNB #Algoritma\n",
    "\n",
    "gnb = GaussianNB()\n",
    "\n",
    "gnb.fit(X_train, y_train)"
   ]
  },
  {
   "cell_type": "code",
   "execution_count": null,
   "id": "a030631d-9f6e-4709-b877-91b13d5f3d8e",
   "metadata": {},
   "outputs": [],
   "source": [
    "y_pred = gnb.predict(X_test)\n",
    "\n",
    "y_pred"
   ]
  },
  {
   "cell_type": "code",
   "execution_count": null,
   "id": "594e493c-4294-47e1-82a6-9add0783a09f",
   "metadata": {},
   "outputs": [],
   "source": [
    "y_pred_train = gnb.predict(X_train)\n",
    "\n",
    "y_pred_train"
   ]
  },
  {
   "cell_type": "code",
   "execution_count": null,
   "id": "e37a97eb-0098-4765-8831-df7d44933b86",
   "metadata": {},
   "outputs": [],
   "source": [
    "from sklearn.metrics import confusion_matrix #Sonuc\n",
    "\n",
    "cm = confusion_matrix(y_test, y_pred)\n",
    "TP = cm[0,0]\n",
    "TN = cm[1,1]\n",
    "\n",
    "TPR = TP / float(TP + FN)\n",
    "TNR = TN / (TN + FP)\n",
    "classification_accuracy = (TP + TN) / float(TP + TN + FP + FN)\n",
    "\n",
    "print('Test sonucu:\\n\\n', cm)\n",
    "\n",
    "print('Accuracy : {0:0.4f}'.format(classification_accuracy))\n",
    "print('TP rate Rate : {0:0.4f}'.format(TPR))\n",
    "print('TN rate : {0:0.4f}'.format(TNR))\n",
    "print('TP = ', cm[0,0])\n",
    "print('TN = ', cm[1,1])\n"
   ]
  },
  {
   "cell_type": "code",
   "execution_count": null,
   "id": "bed9cabf-97b5-4808-8637-a8189d76520b",
   "metadata": {},
   "outputs": [],
   "source": [
    "#Faydalandigim Kaynaklar\n",
    "#https://www.kaggle.com/code/prashant111/naive-bayes-classifier-in-python#10.-Feature-Engineering-\n",
    "#https://www.geeksforgeeks.org/"
   ]
  }
 ],
 "metadata": {
  "kernelspec": {
   "display_name": "Python 3 (ipykernel)",
   "language": "python",
   "name": "python3"
  },
  "language_info": {
   "codemirror_mode": {
    "name": "ipython",
    "version": 3
   },
   "file_extension": ".py",
   "mimetype": "text/x-python",
   "name": "python",
   "nbconvert_exporter": "python",
   "pygments_lexer": "ipython3",
   "version": "3.10.5"
  }
 },
 "nbformat": 4,
 "nbformat_minor": 5
}
